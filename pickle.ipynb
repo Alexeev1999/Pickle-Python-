{
 "cells": [
  {
   "cell_type": "markdown",
   "metadata": {},
   "source": [
    "## Модуль pickle реализует алгоритм преобразования произвольного объекта Python в последовательность байтов"
   ]
  },
  {
   "cell_type": "code",
   "execution_count": 11,
   "metadata": {},
   "outputs": [],
   "source": [
    "import pickle # реализует алгоритм преобразования произвольного объекта \n",
    "import pprint #позволяет форматировать вывод произвольных структур данных "
   ]
  },
  {
   "cell_type": "markdown",
   "metadata": {},
   "source": [
    "dumps() - функция, с помощью которой возможно преобразовать структуру данных в строку, а полученная строка выводится на консоль. \n",
    "\n",
    "'Pickle' работает как с безопасными, так и с потенциально опасными данными\n"
   ]
  },
  {
   "cell_type": "code",
   "execution_count": 12,
   "metadata": {},
   "outputs": [
    {
     "name": "stdout",
     "output_type": "stream",
     "text": [
      "Data:[{'a': 'A', 'b': 2, 'c': 3.0}]\n",
      "PICKLE: b'\\x80\\x04\\x95#\\x00\\x00\\x00\\x00\\x00\\x00\\x00]\\x94}\\x94(\\x8c\\x01a\\x94\\x8c\\x01A\\x94\\x8c\\x01b\\x94K\\x02\\x8c\\x01c\\x94G@\\x08\\x00\\x00\\x00\\x00\\x00\\x00ua.'\n"
     ]
    }
   ],
   "source": [
    "data = [{'a':'A', 'b':2, 'c': 3.0}]\n",
    "print ('Data:', end= '')\n",
    "pprint.pprint (data)\n",
    "\n",
    "data_string = pickle.dumps(data) #преобразование структуры в строку \n",
    "print ('PICKLE: {!r}'.format(data_string)) #вывод "
   ]
  },
  {
   "cell_type": "markdown",
   "metadata": {},
   "source": [
    "(!) Сериализированные данные можно записать в файл, канал.\n",
    "Можно десериализировать данные для конструирования объекта с теми же данными."
   ]
  },
  {
   "cell_type": "code",
   "execution_count": 13,
   "metadata": {},
   "outputs": [
    {
     "name": "stdout",
     "output_type": "stream",
     "text": [
      "before:[{'a': 'A', 'b': 2, 'c': 3.0}]\n",
      "after :[{'a': 'A', 'b': 2, 'c': 3.0}]\n",
      "same? : False\n",
      "equal? : True\n"
     ]
    }
   ],
   "source": [
    "data1 = [{'a': 'A', 'b': 2, 'c': 3.0 }]\n",
    "print ('before:', end ='')\n",
    "pprint.pprint(data1)\n",
    "\n",
    "data1_string = pickle.dumps (data1) \n",
    "\n",
    "data2 = pickle.loads (data1_string) # кодированные данных в объекты Python\n",
    "print ('after :', end = '')\n",
    "pprint.pprint (data2)\n",
    "\n",
    "print ('same? :', (data1 is data2))\n",
    "print ('equal? :', (data1 == data2))\n"
   ]
  },
  {
   "cell_type": "markdown",
   "metadata": {},
   "source": [
    "### Работа с потоками "
   ]
  },
  {
   "cell_type": "code",
   "execution_count": 14,
   "metadata": {},
   "outputs": [],
   "source": [
    "import io #работа с разными типами ввода и вывода "
   ]
  },
  {
   "cell_type": "markdown",
   "metadata": {},
   "source": [
    "Сущетсвует 3 типа вывода/ввода:\n",
    "\n",
    "    * текстовый ввод/вывод- работа со строчными объектами 'str'\n",
    "    * двоичный ввод/вывод- работа с бинарными объектами типа 'bytes'\n",
    "    * непосредственный ввод/вывод (raw input/output) "
   ]
  },
  {
   "cell_type": "code",
   "execution_count": 32,
   "metadata": {},
   "outputs": [
    {
     "name": "stdout",
     "output_type": "stream",
     "text": [
      "WRITING : pickle (elkcip)\n",
      "WRITING : preserve (evreserp)\n",
      "WRITING : last (tsal)\n",
      "READ : pickle (elkcip)\n",
      "READ : preserve (evreserp)\n",
      "READ : last (tsal)\n"
     ]
    }
   ],
   "source": [
    "import io\n",
    "import pickle\n",
    "import pprint\n",
    "\n",
    "class SimpleObject:\n",
    "   \n",
    "    def __init__ (self, name):\n",
    "        self.name = name\n",
    "        self.name_backwards = name[::-1]\n",
    "        return\n",
    "\n",
    "data = []\n",
    "data.append(SimpleObject('pickle'))\n",
    "data.append(SimpleObject('preserve'))\n",
    "data.append(SimpleObject('last'))\n",
    "                         \n",
    "# Имитировать файл\n",
    "out_s = io.BytesIO()\n",
    "\n",
    "# Записать в поток\n",
    "for o in data:\n",
    "    print ('WRITING : {} ({})'.format(o.name, o.name_backwards))\n",
    "    pickle.dump (o, out_s)\n",
    "    out_s.flush()\n",
    "\n",
    "# Настроить читаемый поток\n",
    "in_s = io.BytesIO(out_s.getvalue())\n",
    "\n",
    "while True:\n",
    "    try:\n",
    "        o = pickle.load(in_s)\n",
    "    except EOFError:\n",
    "        break\n",
    "    else:\n",
    "        print('READ : {} ({})'.format(\n",
    "            o.name, o.name_backwards))\n",
    "        "
   ]
  },
  {
   "cell_type": "markdown",
   "metadata": {},
   "source": [
    "'BytesIO' - буфер для имитации потоков\n",
    "\n",
    "В примере используются 2 буфера 'BytesIO':\n",
    "    \n",
    "    1. Получает сериализованные объекты (с помощью pickle)->подает во второй \n",
    "    2. Данные читаются при помощи функции load()\n",
    "    \n",
    "'shelve'- модуль работы с серилизованным данными для сохранения объектов"
   ]
  },
  {
   "cell_type": "markdown",
   "metadata": {},
   "source": [
    "Для работы с межпроцессным обменом данных в рамках модуля pickel используются:\n",
    "\n",
    "    * функция 'os.fork()'\n",
    "    * функция 'os.pipe()'\n",
    "\n",
    "Данные функции предназначены для рабочих процессоров, которые читают инструкции заданий из одного канала и записывают результаты в другой канал.  "
   ]
  },
  {
   "cell_type": "markdown",
   "metadata": {},
   "source": [
    "### Объекты, не сериализируемые с помощью модуля pickle"
   ]
  },
  {
   "cell_type": "markdown",
   "metadata": {},
   "source": [
    "Перечень несериализуемых объектов с помощью модуля pickle:\n",
    "    \n",
    "    *Дескрипторы файлов \n",
    "    *Сокеты\n",
    "    *другие объекты, сопряженные с работоспособностью ОП в реальном времени\n",
    "    \n",
    "'__getstate__()'- возвращает объект, содержащий за внутреннее состояние объекта \n",
    "\n",
    "'__setstate__()'- последующий метод, отвечающий для загрузки объекта "
   ]
  },
  {
   "cell_type": "markdown",
   "metadata": {},
   "source": [
    "### Домашнее задание "
   ]
  },
  {
   "cell_type": "markdown",
   "metadata": {},
   "source": [
    "Выполните сериализацию структуры данных для переменной original={'x'[1,2,3]}"
   ]
  }
 ],
 "metadata": {
  "kernelspec": {
   "display_name": "Python 3",
   "language": "python",
   "name": "python3"
  },
  "language_info": {
   "codemirror_mode": {
    "name": "ipython",
    "version": 3
   },
   "file_extension": ".py",
   "mimetype": "text/x-python",
   "name": "python",
   "nbconvert_exporter": "python",
   "pygments_lexer": "ipython3",
   "version": "3.8.0"
  }
 },
 "nbformat": 4,
 "nbformat_minor": 4
}
